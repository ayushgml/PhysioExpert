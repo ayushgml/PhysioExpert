{
 "cells": [
  {
   "cell_type": "code",
   "execution_count": 1,
   "id": "1a8bc784",
   "metadata": {},
   "outputs": [],
   "source": [
    "import pickle"
   ]
  },
  {
   "cell_type": "code",
   "execution_count": 2,
   "id": "a8f5e1c0",
   "metadata": {},
   "outputs": [],
   "source": [
    "transcript = \"The patient is a (XX)-year-old female with a history of CKD stage III secondary to membranoproliferative glomerulonephritis. This was accompanied by significant nephrotic syndrome and microscopic hematuria. Urine protein prior was 5.9 grams, and at the time of her renal biopsy, it was as high as 18 grams. Serologies were done and these were all negative. In particular, her ANA was negative, ANCA negative, hepatitis A, B, and C negative, HIV negative, ASO less than 200. C3, C4, and CH50 were all negative. She had generalized edema secondary to her nephrotic syndrome and was treated with diuretics. She had hyperlipidemia. Creatinine was 1.7 last April. She had two hospitalizations; the first in September-October when her glomerulonephritis was diagnosed and then again in December with recurrence of her edema. She was treated with dipyridamole, fish oil capsules, and prednisone. She was initially evaluated by me last April. At that time, BUN was 20, creatinine 2.2, hemoglobin 9.4, albumin 1.2, potassium 3.3. She required diuretics for treatment of her edema. Blood pressures were stable at 120/80. Again, repeat serologies were performed. C3-C4 levels normal, ANA negative, CH50 normal, hepatitis B and C antibody negative. Creatinine was 1.8 in December. Albumin 1.5, hemoglobin 9.8, cholesterol 459, and triglycerides 155. Subsequently, she was placed on Crestor, PhosLo and lisinopril to reduce the urine protein. Urine protein-to-creatinine ratio could not be determined because of her extremely high urine protein. Urine sediment examined in the office showed evidence of significant microscopic hematuria with dysmorphic red cells. When last seen in the office, her labs on recheck showed creatinine of 1.8, BUN 26. Electrolytes were normal. Albumin 1.4, glucose 79, hemoglobin 9.9, TSH high at 10, ferritin 202, percent saturation of iron 34, PTH level 42, cholesterol 226, triglycerides 165, LDL 162, phosphorous 6.4, free T4 normal at 0.9. When seen in December, she admitted that she had stopped all of her medications one week ago on her own. She had been counseled about the importance of taking medications. At that time, Lasix, Theo-Dur and PhosLo were prescribed. The patient was admitted on this occasion with epigastric abdominal pain. On exam in the emergency room, blood pressure was 118/86, pulse 68, she was afebrile. Chest was clear. Heart sounds regular. Abdomen: There was some mild tenderness. No rebound. Bowel sounds were normal. There was no peripheral edema.\""
   ]
  },
  {
   "cell_type": "code",
   "execution_count": 5,
   "id": "74a3b245",
   "metadata": {},
   "outputs": [
    {
     "ename": "SyntaxError",
     "evalue": "unexpected EOF while parsing (<ipython-input-5-2c41e95887b0>, line 1)",
     "output_type": "error",
     "traceback": [
      "\u001b[0;36m  File \u001b[0;32m\"<ipython-input-5-2c41e95887b0>\"\u001b[0;36m, line \u001b[0;32m1\u001b[0m\n\u001b[0;31m    class MedicalSpeciality:\u001b[0m\n\u001b[0m                            ^\u001b[0m\n\u001b[0;31mSyntaxError\u001b[0m\u001b[0;31m:\u001b[0m unexpected EOF while parsing\n"
     ]
    }
   ],
   "source": [
    "class MedicalSpeciality:"
   ]
  },
  {
   "cell_type": "code",
   "execution_count": 4,
   "id": "e7fca34b",
   "metadata": {},
   "outputs": [
    {
     "ename": "AttributeError",
     "evalue": "Can't get attribute 'MedicalSpeciality' on <module '__main__'>",
     "output_type": "error",
     "traceback": [
      "\u001b[0;31m---------------------------------------------------------------------------\u001b[0m",
      "\u001b[0;31mAttributeError\u001b[0m                            Traceback (most recent call last)",
      "\u001b[0;32m<ipython-input-4-c667e208d2bd>\u001b[0m in \u001b[0;36m<module>\u001b[0;34m\u001b[0m\n\u001b[0;32m----> 1\u001b[0;31m \u001b[0mmodel\u001b[0m \u001b[0;34m=\u001b[0m \u001b[0mpickle\u001b[0m\u001b[0;34m.\u001b[0m\u001b[0mload\u001b[0m\u001b[0;34m(\u001b[0m\u001b[0mopen\u001b[0m\u001b[0;34m(\u001b[0m\u001b[0;34m'/Users/ayushgupta/Downloads/Programming/PhysioExpert/model/model.pkl'\u001b[0m\u001b[0;34m,\u001b[0m \u001b[0;34m'rb'\u001b[0m\u001b[0;34m)\u001b[0m\u001b[0;34m)\u001b[0m\u001b[0;34m\u001b[0m\u001b[0;34m\u001b[0m\u001b[0m\n\u001b[0m\u001b[1;32m      2\u001b[0m \u001b[0mresult\u001b[0m \u001b[0;34m=\u001b[0m \u001b[0mmodel\u001b[0m\u001b[0;34m.\u001b[0m\u001b[0mfinal_prediction\u001b[0m\u001b[0;34m(\u001b[0m\u001b[0mtranscript\u001b[0m\u001b[0;34m)\u001b[0m\u001b[0;34m\u001b[0m\u001b[0;34m\u001b[0m\u001b[0m\n",
      "\u001b[0;31mAttributeError\u001b[0m: Can't get attribute 'MedicalSpeciality' on <module '__main__'>"
     ]
    }
   ],
   "source": [
    "model = pickle.load(open('/Users/ayushgupta/Downloads/Programming/PhysioExpert/model/model.pkl', 'rb'))\n",
    "result = model.final_prediction(transcript)"
   ]
  },
  {
   "cell_type": "code",
   "execution_count": null,
   "id": "8327e651",
   "metadata": {},
   "outputs": [],
   "source": []
  }
 ],
 "metadata": {
  "kernelspec": {
   "display_name": "Python 3",
   "language": "python",
   "name": "python3"
  },
  "language_info": {
   "codemirror_mode": {
    "name": "ipython",
    "version": 3
   },
   "file_extension": ".py",
   "mimetype": "text/x-python",
   "name": "python",
   "nbconvert_exporter": "python",
   "pygments_lexer": "ipython3",
   "version": "3.8.8"
  }
 },
 "nbformat": 4,
 "nbformat_minor": 5
}

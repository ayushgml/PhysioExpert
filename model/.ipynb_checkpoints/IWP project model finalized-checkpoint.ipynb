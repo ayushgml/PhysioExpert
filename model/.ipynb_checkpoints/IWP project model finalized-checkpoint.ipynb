{
 "cells": [
  {
   "cell_type": "markdown",
   "id": "d5ed84a4",
   "metadata": {},
   "source": [
    "# IWP ML model"
   ]
  },
  {
   "cell_type": "markdown",
   "id": "ab38139c",
   "metadata": {},
   "source": [
    "## Importing Libraries"
   ]
  },
  {
   "cell_type": "code",
   "execution_count": 2,
   "id": "feb78e7b",
   "metadata": {},
   "outputs": [],
   "source": [
    "import pandas as pd\n",
    "import numpy as np\n",
    "from IPython.display import SVG\n",
    "from keras.utils.vis_utils import model_to_dot\n",
    "import re\n",
    "import nltk\n",
    "from nltk.corpus import stopwords\n",
    "from nltk.tokenize import word_tokenize\n",
    "from nltk.tokenize import sent_tokenize\n",
    "from nltk.stem import WordNetLemmatizer"
   ]
  },
  {
   "cell_type": "code",
   "execution_count": 3,
   "id": "6e7d1ba9",
   "metadata": {},
   "outputs": [],
   "source": [
    "import matplotlib.pyplot as plt\n",
    "import matplotlib as mpl\n",
    "mpl.rcParams['figure.dpi'] = 150\n",
    "mpl.rcParams['figure.figsize'] = (10.0, 8.0)"
   ]
  },
  {
   "cell_type": "markdown",
   "id": "ba356a9e",
   "metadata": {},
   "source": [
    "## Importing Data"
   ]
  },
  {
   "cell_type": "code",
   "execution_count": 4,
   "id": "3f932a09",
   "metadata": {},
   "outputs": [],
   "source": [
    "data = pd.read_csv('data.csv', usecols=['medical_specialty', 'transcription'])\n",
    "data.loc[data.medical_specialty == ' Cardiovascular / Pulmonary', \"medical_specialty\"] = 'Cardiovascular'\n",
    "data.loc[data.medical_specialty == ' Neurosurgery', 'medical_specialty'] = 'Neurology'\n",
    "data.loc[data.medical_specialty == ' Neurology', 'medical_specialty'] = 'Neurology'\n",
    "data.loc[data.medical_specialty == ' Urology', 'medical_specialty'] = 'Urology'\n",
    "data.loc[data.medical_specialty == ' Obstetrics / Gynecology', 'medical_specialty'] = 'Gynecology'\n",
    "data.loc[data.medical_specialty == ' Gastroenterology', 'medical_specialty'] = 'Gastroenterology'\n",
    "data.loc[data.medical_specialty == ' Nephrology', 'medical_specialty'] = 'Gastroenterology'\n",
    "data.loc[data.medical_specialty == ' Orthopedic', 'medical_specialty'] = 'Orthopedic'\n",
    "# data.loc[data.medical_specialty == ' Surgery', 'medical_specialty'] = 'Surgery'\n",
    "# data.loc[data.medical_specialty == ' Radiology', 'medical_specialty'] = 'Radiology'\n",
    "\n",
    "# data = data[data.medical_specialty.isin(['Cardiovascular', 'Neurology', 'Urology', 'Gynecology', 'Gastroenterology', 'Orthopedic', 'Surgery', 'Radiology'])]\n",
    "data = data[data.medical_specialty.isin(['Cardiovascular', 'Neurology', 'Urology', 'Gynecology', 'Gastroenterology', 'Orthopedic'])]\n",
    "\n",
    "data = data[['transcription', 'medical_specialty']]"
   ]
  },
  {
   "cell_type": "code",
   "execution_count": 5,
   "id": "15bbc96f",
   "metadata": {
    "scrolled": true
   },
   "outputs": [
    {
     "data": {
      "text/html": [
       "<div>\n",
       "<style scoped>\n",
       "    .dataframe tbody tr th:only-of-type {\n",
       "        vertical-align: middle;\n",
       "    }\n",
       "\n",
       "    .dataframe tbody tr th {\n",
       "        vertical-align: top;\n",
       "    }\n",
       "\n",
       "    .dataframe thead th {\n",
       "        text-align: right;\n",
       "    }\n",
       "</style>\n",
       "<table border=\"1\" class=\"dataframe\">\n",
       "  <thead>\n",
       "    <tr style=\"text-align: right;\">\n",
       "      <th></th>\n",
       "      <th>transcription</th>\n",
       "      <th>medical_specialty</th>\n",
       "    </tr>\n",
       "  </thead>\n",
       "  <tbody>\n",
       "    <tr>\n",
       "      <th>3</th>\n",
       "      <td>2-D M-MODE: , ,1.  Left atrial enlargement wit...</td>\n",
       "      <td>Cardiovascular</td>\n",
       "    </tr>\n",
       "    <tr>\n",
       "      <th>4</th>\n",
       "      <td>1.  The left ventricular cavity size and wall ...</td>\n",
       "      <td>Cardiovascular</td>\n",
       "    </tr>\n",
       "    <tr>\n",
       "      <th>7</th>\n",
       "      <td>2-D ECHOCARDIOGRAM,Multiple views of the heart...</td>\n",
       "      <td>Cardiovascular</td>\n",
       "    </tr>\n",
       "    <tr>\n",
       "      <th>9</th>\n",
       "      <td>DESCRIPTION:,1.  Normal cardiac chambers size....</td>\n",
       "      <td>Cardiovascular</td>\n",
       "    </tr>\n",
       "    <tr>\n",
       "      <th>11</th>\n",
       "      <td>2-D STUDY,1. Mild aortic stenosis, widely calc...</td>\n",
       "      <td>Cardiovascular</td>\n",
       "    </tr>\n",
       "  </tbody>\n",
       "</table>\n",
       "</div>"
      ],
      "text/plain": [
       "                                        transcription medical_specialty\n",
       "3   2-D M-MODE: , ,1.  Left atrial enlargement wit...    Cardiovascular\n",
       "4   1.  The left ventricular cavity size and wall ...    Cardiovascular\n",
       "7   2-D ECHOCARDIOGRAM,Multiple views of the heart...    Cardiovascular\n",
       "9   DESCRIPTION:,1.  Normal cardiac chambers size....    Cardiovascular\n",
       "11  2-D STUDY,1. Mild aortic stenosis, widely calc...    Cardiovascular"
      ]
     },
     "execution_count": 5,
     "metadata": {},
     "output_type": "execute_result"
    }
   ],
   "source": [
    "data.head()"
   ]
  },
  {
   "cell_type": "markdown",
   "id": "4c36200f",
   "metadata": {},
   "source": [
    "## Data Preprocessing"
   ]
  },
  {
   "cell_type": "code",
   "execution_count": 6,
   "id": "f031c54a",
   "metadata": {},
   "outputs": [
    {
     "name": "stderr",
     "output_type": "stream",
     "text": [
      "[nltk_data] Downloading package stopwords to\n",
      "[nltk_data]     /Users/ayushgupta/nltk_data...\n",
      "[nltk_data]   Package stopwords is already up-to-date!\n",
      "[nltk_data] Downloading package punkt to\n",
      "[nltk_data]     /Users/ayushgupta/nltk_data...\n",
      "[nltk_data]   Package punkt is already up-to-date!\n",
      "[nltk_data] Downloading package wordnet to\n",
      "[nltk_data]     /Users/ayushgupta/nltk_data...\n",
      "[nltk_data]   Package wordnet is already up-to-date!\n",
      "[nltk_data] Downloading package omw-1.4 to\n",
      "[nltk_data]     /Users/ayushgupta/nltk_data...\n",
      "[nltk_data]   Package omw-1.4 is already up-to-date!\n"
     ]
    },
    {
     "data": {
      "text/plain": [
       "True"
      ]
     },
     "execution_count": 6,
     "metadata": {},
     "output_type": "execute_result"
    }
   ],
   "source": [
    "nltk.download('stopwords')\n",
    "nltk.download('punkt')\n",
    "nltk.download('wordnet')\n",
    "nltk.download('omw-1.4')"
   ]
  },
  {
   "cell_type": "code",
   "execution_count": 7,
   "id": "f99a8415",
   "metadata": {},
   "outputs": [],
   "source": [
    "import string\n",
    "\n",
    "def remove_punct(text):\n",
    "    for p in string.punctuation:\n",
    "        text = text.replace(p, ' ')\n",
    "    text = ' '.join(text.split())\n",
    "    return text"
   ]
  },
  {
   "cell_type": "code",
   "execution_count": 8,
   "id": "dd774dfb",
   "metadata": {},
   "outputs": [],
   "source": [
    "data.rename(columns = {'transcription':'Report', 'medical_specialty':'speciality'}, inplace = True)\n",
    "data = data.dropna()\n",
    "X=data\n",
    "X['Report'] = X['Report'].map(lambda x: remove_punct(x).lower())"
   ]
  },
  {
   "cell_type": "markdown",
   "id": "ff0a28b2",
   "metadata": {},
   "source": [
    "## Training/Testing stuff"
   ]
  },
  {
   "cell_type": "code",
   "execution_count": 9,
   "id": "1729241f",
   "metadata": {},
   "outputs": [],
   "source": [
    "from sklearn.model_selection import train_test_split\n",
    "X_train, X_test, y_train, y_test = train_test_split(X['Report'], X['speciality'], test_size=0.2, random_state=42)"
   ]
  },
  {
   "cell_type": "code",
   "execution_count": 10,
   "id": "9de7b9a7",
   "metadata": {},
   "outputs": [],
   "source": [
    "y_train = pd.DataFrame(y_train)\n",
    "y_test = pd.DataFrame(y_test)\n",
    "y_train = y_train.replace({'Cardiovascular': 0, 'Neurology': 1, 'Urology': 2, 'Gynecology': 3, 'Gastroenterology': 4, 'Orthopedic': 5}).to_numpy()\n",
    "y_test = y_test.replace({'Cardiovascular': 0, 'Neurology': 1, 'Urology': 2, 'Gynecology': 3, 'Gastroenterology': 4, 'Orthopedic': 5}).to_numpy()"
   ]
  },
  {
   "cell_type": "code",
   "execution_count": 11,
   "id": "3a8c0dab",
   "metadata": {},
   "outputs": [],
   "source": [
    "y_train = np.squeeze(y_train)\n",
    "y_test = np.squeeze(y_test)"
   ]
  },
  {
   "cell_type": "code",
   "execution_count": 12,
   "id": "35d9666b",
   "metadata": {},
   "outputs": [
    {
     "data": {
      "text/plain": [
       "2115    preoperative diagnoses 1 recurrent intractable...\n",
       "163     preoperative diagnosis refractory priapism pos...\n",
       "2551    pre eclampsia is a very serious condition uniq...\n",
       "2731    preoperative diagnosis herniated nucleus pulpo...\n",
       "4639    preoperative diagnosis empyema of the chest le...\n",
       "                              ...                        \n",
       "3519    preoperative diagnoses nonhealing decubitus ul...\n",
       "4609    reason for consultation ventricular ectopy and...\n",
       "2848    cc progressive visual loss hx 76 y o male sudd...\n",
       "4777    name of procedure left heart catheterization w...\n",
       "3515    preoperative diagnosis large juxtarenal abdomi...\n",
       "Name: Report, Length: 1327, dtype: object"
      ]
     },
     "execution_count": 12,
     "metadata": {},
     "output_type": "execute_result"
    }
   ],
   "source": [
    "X_train"
   ]
  },
  {
   "cell_type": "code",
   "execution_count": 13,
   "id": "e02aa0ea",
   "metadata": {},
   "outputs": [
    {
     "data": {
      "text/plain": [
       "array([5, 2, 3, ..., 1, 0, 4])"
      ]
     },
     "execution_count": 13,
     "metadata": {},
     "output_type": "execute_result"
    }
   ],
   "source": [
    "y_train"
   ]
  },
  {
   "cell_type": "code",
   "execution_count": 14,
   "id": "b4035827",
   "metadata": {},
   "outputs": [
    {
     "data": {
      "text/plain": [
       "3031    reason for exam lower quadrant pain with nause...\n",
       "2201    preoperative diagnosis displaced left subtroch...\n",
       "3685    chief complaint nausea present illness the pat...\n",
       "3035    reason for exam right sided abdominal pain wit...\n",
       "4771    procedure left heart catheterization coronary ...\n",
       "                              ...                        \n",
       "4895    history the patient is an 86 year old woman wi...\n",
       "3558    procedures esophagogastroduodenoscopy and colo...\n",
       "2008    title of operation youngswick osteotomy with i...\n",
       "4641    preoperative diagnosis empyema postoperative d...\n",
       "2874    cc dysarthria hx this 52y o rhf was transferre...\n",
       "Name: Report, Length: 332, dtype: object"
      ]
     },
     "execution_count": 14,
     "metadata": {},
     "output_type": "execute_result"
    }
   ],
   "source": [
    "X_test"
   ]
  },
  {
   "cell_type": "code",
   "execution_count": 15,
   "id": "10644fb5",
   "metadata": {},
   "outputs": [
    {
     "data": {
      "text/plain": [
       "array([4, 5, 4, 4, 0, 4, 0, 0, 2, 3, 3, 0, 3, 3, 4, 0, 3, 0, 5, 0, 4, 1,\n",
       "       3, 1, 4, 1, 5, 0, 0, 2, 0, 0, 4, 5, 5, 0, 0, 5, 2, 0, 4, 5, 3, 1,\n",
       "       4, 0, 0, 5, 2, 2, 5, 0, 2, 1, 2, 5, 5, 4, 1, 5, 5, 3, 4, 0, 4, 5,\n",
       "       3, 5, 5, 5, 5, 5, 4, 4, 1, 5, 2, 4, 0, 4, 3, 5, 4, 5, 5, 1, 4, 4,\n",
       "       5, 0, 2, 1, 2, 4, 2, 1, 4, 1, 0, 4, 0, 5, 5, 5, 4, 2, 0, 1, 0, 2,\n",
       "       5, 5, 1, 1, 0, 5, 5, 5, 4, 3, 4, 1, 4, 5, 1, 1, 1, 4, 4, 2, 5, 1,\n",
       "       4, 1, 4, 1, 4, 5, 5, 1, 1, 4, 0, 3, 0, 1, 5, 5, 5, 1, 2, 2, 1, 5,\n",
       "       1, 3, 5, 1, 5, 3, 2, 0, 2, 1, 0, 1, 0, 0, 0, 2, 5, 5, 4, 1, 5, 4,\n",
       "       3, 5, 4, 5, 5, 5, 5, 2, 4, 0, 2, 4, 4, 1, 4, 4, 3, 0, 3, 5, 1, 4,\n",
       "       1, 5, 5, 0, 1, 1, 0, 3, 0, 5, 4, 0, 5, 1, 1, 0, 0, 1, 4, 0, 5, 4,\n",
       "       5, 3, 1, 1, 5, 0, 4, 3, 5, 3, 3, 1, 0, 1, 3, 5, 5, 4, 3, 0, 2, 5,\n",
       "       1, 1, 3, 3, 4, 0, 4, 1, 0, 4, 0, 4, 2, 0, 4, 5, 5, 5, 3, 5, 5, 0,\n",
       "       4, 5, 2, 5, 0, 1, 1, 4, 0, 0, 5, 5, 1, 5, 0, 0, 4, 1, 4, 5, 2, 5,\n",
       "       2, 2, 5, 0, 2, 3, 2, 0, 1, 4, 1, 3, 5, 4, 1, 1, 2, 5, 5, 1, 0, 0,\n",
       "       5, 4, 5, 4, 4, 4, 0, 1, 4, 3, 5, 0, 1, 3, 5, 4, 5, 5, 3, 0, 4, 5,\n",
       "       0, 1])"
      ]
     },
     "execution_count": 15,
     "metadata": {},
     "output_type": "execute_result"
    }
   ],
   "source": [
    "y_test"
   ]
  },
  {
   "cell_type": "markdown",
   "id": "337a3dc4",
   "metadata": {},
   "source": [
    "## Model"
   ]
  },
  {
   "cell_type": "markdown",
   "id": "73a5e4df",
   "metadata": {},
   "source": [
    "## DL models"
   ]
  },
  {
   "cell_type": "markdown",
   "id": "9cc87d25",
   "metadata": {},
   "source": [
    "#### CNN-LSTM"
   ]
  },
  {
   "cell_type": "code",
   "execution_count": 16,
   "id": "84ed5486",
   "metadata": {},
   "outputs": [],
   "source": [
    "from dsbox.ml.neural_networks import KerasFactory\n",
    "from dsbox.ml.neural_networks.keras_factory.image_models import KerasApplicationFactory\n",
    "from dsbox.ml.neural_networks.processing import Text2Sequence\n",
    "from tensorflow.keras.wrappers.scikit_learn import KerasClassifier\n",
    "from sklearn.base import BaseEstimator, ClassifierMixin\n",
    "from sklearn.utils.validation import check_is_fitted\n",
    "import tensorflow as tf\n",
    "from tensorflow import keras\n",
    "from tensorflow.python.keras.utils.np_utils import to_categorical"
   ]
  },
  {
   "cell_type": "code",
   "execution_count": 17,
   "id": "a9351e19",
   "metadata": {},
   "outputs": [],
   "source": [
    "from nltk.stem.snowball import EnglishStemmer\n",
    "from dsbox.ml.neural_networks.processing.text_classification import Text2Sequence\n",
    "from dsbox.ml.neural_networks.keras_factory.text_models import CNN_LSTMFactory\n",
    "from dsbox.ml.neural_networks.processing.workflow import TextNeuralNetPipeline\n",
    "\n",
    "t2s=Text2Sequence(stemmer=EnglishStemmer())\n",
    "model = TextNeuralNetPipeline(text2seq=t2s,\n",
    "                              factory_class=CNN_LSTMFactory, \n",
    "                              num_labels=6)"
   ]
  },
  {
   "cell_type": "code",
   "execution_count": null,
   "id": "45765586",
   "metadata": {
    "scrolled": false
   },
   "outputs": [
    {
     "name": "stderr",
     "output_type": "stream",
     "text": [
      "/Users/ayushgupta/opt/anaconda3/lib/python3.8/site-packages/dsbox/ml/neural_networks/processing/text_classification.py:153: VisibleDeprecationWarning: Creating an ndarray from ragged nested sequences (which is a list-or-tuple of lists-or-tuples-or ndarrays with different lengths or shapes) is deprecated. If you meant to do this, you must specify 'dtype=object' when creating the ndarray\n",
      "  return sequence.pad_sequences(np.array(word_ids), maxlen=self.seq_len, value=pad_value)\n"
     ]
    },
    {
     "name": "stdout",
     "output_type": "stream",
     "text": [
      "Epoch 1/15\n",
      "14/14 [==============================] - 9s 497ms/step - loss: 1.7675 - accuracy: 0.2419\n",
      "Epoch 2/15\n",
      "14/14 [==============================] - 7s 504ms/step - loss: 1.7085 - accuracy: 0.2751\n",
      "Epoch 3/15\n",
      "14/14 [==============================] - 8s 555ms/step - loss: 1.5677 - accuracy: 0.3595\n",
      "Epoch 4/15\n",
      "14/14 [==============================] - 7s 484ms/step - loss: 1.1466 - accuracy: 0.5720\n",
      "Epoch 5/15\n",
      "14/14 [==============================] - 7s 490ms/step - loss: 0.9001 - accuracy: 0.6194\n",
      "Epoch 6/15\n",
      "14/14 [==============================] - 7s 472ms/step - loss: 0.7663 - accuracy: 0.6956\n",
      "Epoch 7/15\n",
      "14/14 [==============================] - 7s 509ms/step - loss: 0.6809 - accuracy: 0.7438\n",
      "Epoch 8/15\n",
      "14/14 [==============================] - 7s 501ms/step - loss: 0.5613 - accuracy: 0.8395\n",
      "Epoch 9/15\n",
      "14/14 [==============================] - 8s 555ms/step - loss: 0.4554 - accuracy: 0.8696\n",
      "Epoch 10/15\n",
      "14/14 [==============================] - 7s 490ms/step - loss: 0.3799 - accuracy: 0.8809\n",
      "Epoch 11/15\n"
     ]
    }
   ],
   "source": [
    "cnn_lstm = model.fit(X_train, y_train, \n",
    "                     epochs=15,\n",
    "                     batch_size=100, \n",
    "                     shuffle=True)"
   ]
  },
  {
   "cell_type": "code",
   "execution_count": null,
   "id": "2e16db19",
   "metadata": {
    "scrolled": true
   },
   "outputs": [],
   "source": [
    "y_pred_cnn_lstm = cnn_lstm.predict(X_test)"
   ]
  },
  {
   "cell_type": "code",
   "execution_count": null,
   "id": "76d888f8",
   "metadata": {},
   "outputs": [],
   "source": [
    "cnn_lstm.predict([\"Focused examination of the right index finger demonstrates a 1 cm transverse wound across the dorsal DIP joint. The wound has almost completely healed. There are three residual nylon sutures, which are all removed today. There is no localized erythema, induration, swelling or tenderness. There is an extensor lag of approximately 20 degrees at the DIP joint. There is full passive extension of the distal phalanx at the joint. There is mild hyperextension at the PIP joint.\"])[0]"
   ]
  },
  {
   "cell_type": "code",
   "execution_count": null,
   "id": "49b862de",
   "metadata": {
    "scrolled": false
   },
   "outputs": [],
   "source": [
    "from sklearn import metrics\n",
    "import matplotlib.pyplot as plt\n",
    "\n",
    "# classes = ['Cardiovascular', 'Neurology', 'Urology', 'Gynecology', 'Gastroenterology', 'Orthopedic', 'Surgery', 'Radiology']\n",
    "classes = ['Cardiovascular', 'Neurology', 'Urology', 'Gynecology', 'Gastroenterology', 'Orthopedic']\n",
    "cm = metrics.confusion_matrix(y_test, y_pred_cnn_lstm)\n",
    "cm_display = metrics.ConfusionMatrixDisplay(confusion_matrix = cm, display_labels = classes)\n",
    "\n",
    "cm_display.plot()\n",
    "plt.show()"
   ]
  },
  {
   "cell_type": "markdown",
   "id": "e6e618fd",
   "metadata": {},
   "source": [
    "#### LSTM"
   ]
  },
  {
   "cell_type": "code",
   "execution_count": null,
   "id": "4c8ed49f",
   "metadata": {},
   "outputs": [],
   "source": [
    "from dsbox.ml.neural_networks.keras_factory.text_models import LSTMFactory\n",
    "\n",
    "t2s=Text2Sequence(stemmer=EnglishStemmer())\n",
    "\n",
    "model = TextNeuralNetPipeline(text2seq=t2s,\n",
    "                              factory_class=CNN_LSTMFactory, \n",
    "                              num_labels=6)"
   ]
  },
  {
   "cell_type": "code",
   "execution_count": null,
   "id": "0456c687",
   "metadata": {},
   "outputs": [],
   "source": [
    "lstm = model.fit(X_train, y_train, \n",
    "                        epochs=15,\n",
    "                        batch_size=100, \n",
    "          shuffle=True)\n",
    "y_pred_lstm = lstm.predict(X_test)"
   ]
  },
  {
   "cell_type": "code",
   "execution_count": null,
   "id": "eca3c2a5",
   "metadata": {},
   "outputs": [],
   "source": [
    "lstm.predict([\"Focused examination of the right index finger demonstrates a 1 cm transverse wound across the dorsal DIP joint. The wound has almost completely healed. There are three residual nylon sutures, which are all removed today. There is no localized erythema, induration, swelling or tenderness. There is an extensor lag of approximately 20 degrees at the DIP joint. There is full passive extension of the distal phalanx at the joint. There is mild hyperextension at the PIP joint.\"])"
   ]
  },
  {
   "cell_type": "code",
   "execution_count": null,
   "id": "9f21e18a",
   "metadata": {
    "scrolled": false
   },
   "outputs": [],
   "source": [
    "# classes = ['Cardiovascular', 'Neurology', 'Urology', 'Gynecology', 'Gastroenterology', 'Orthopedic', 'Surgery', 'Radiology']\n",
    "classes = ['Cardiovascular', 'Neurology', 'Urology', 'Gynecology', 'Gastroenterology', 'Orthopedic']\n",
    "cm = metrics.confusion_matrix(y_test, y_pred_lstm)\n",
    "cm_display = metrics.ConfusionMatrixDisplay(confusion_matrix = cm, display_labels = classes)\n",
    "\n",
    "cm_display.plot()\n",
    "plt.show()"
   ]
  },
  {
   "cell_type": "code",
   "execution_count": null,
   "id": "c1199b68",
   "metadata": {},
   "outputs": [],
   "source": []
  },
  {
   "cell_type": "code",
   "execution_count": null,
   "id": "ecc442f4",
   "metadata": {},
   "outputs": [],
   "source": []
  },
  {
   "cell_type": "markdown",
   "id": "fd8326c7",
   "metadata": {},
   "source": [
    "## ML models"
   ]
  },
  {
   "cell_type": "markdown",
   "id": "cfeda757",
   "metadata": {},
   "source": [
    "#### Logistic Regression"
   ]
  },
  {
   "cell_type": "code",
   "execution_count": null,
   "id": "669f377e",
   "metadata": {},
   "outputs": [],
   "source": [
    "from sklearn.feature_extraction.text import TfidfVectorizer\n",
    "from sklearn.decomposition import PCA\n",
    "from sklearn.linear_model import LogisticRegression\n",
    "from sklearn.model_selection import train_test_split"
   ]
  },
  {
   "cell_type": "code",
   "execution_count": null,
   "id": "d8a9ffb0",
   "metadata": {},
   "outputs": [],
   "source": [
    "vectorizer = TfidfVectorizer(analyzer='word', stop_words='english',ngram_range=(1,3), max_df=0.75,min_df=5, use_idf=True, smooth_idf=True,sublinear_tf=True, max_features=1000)\n",
    "tfIdfMat  = vectorizer.fit_transform(data['Report'].tolist())\n",
    "feature_names = sorted(vectorizer.get_feature_names())\n",
    "del feature_names[0:35]"
   ]
  },
  {
   "cell_type": "code",
   "execution_count": null,
   "id": "cfb691a4",
   "metadata": {},
   "outputs": [],
   "source": [
    "pca = PCA(n_components=0.45)\n",
    "tfIdfMat_reduced = pca.fit_transform(tfIdfMat.toarray())\n",
    "\n",
    "labels = data['speciality'].tolist()"
   ]
  },
  {
   "cell_type": "code",
   "execution_count": null,
   "id": "7d2c58e6",
   "metadata": {},
   "outputs": [],
   "source": [
    "X_train_new, X_test_new, y_train_new, y_test_new = train_test_split(tfIdfMat_reduced, \n",
    "                                                                    labels, \n",
    "                                                                    stratify=labels,\n",
    "                                                                    random_state=1)"
   ]
  },
  {
   "cell_type": "code",
   "execution_count": null,
   "id": "83fe5e62",
   "metadata": {},
   "outputs": [],
   "source": [
    "model = LogisticRegression(random_state=0)\n",
    "log_reg = model.fit(X_train_new, y_train_new)"
   ]
  },
  {
   "cell_type": "code",
   "execution_count": null,
   "id": "60d097cb",
   "metadata": {},
   "outputs": [],
   "source": [
    "y_pred_log_reg= log_reg.predict(X_test_new)"
   ]
  },
  {
   "cell_type": "code",
   "execution_count": null,
   "id": "44fc3303",
   "metadata": {},
   "outputs": [],
   "source": [
    "test_text = 'Focused examination of the right index finger demonstrates a 1 cm transverse wound across the dorsal DIP joint. The wound has almost completely healed. There are three residual nylon sutures, which are all removed today. There is no localized erythema, induration, swelling or tenderness. There is an extensor lag of approximately 20 degrees at the DIP joint. There is full passive extension of the distal phalanx at the joint. There is mild hyperextension at the PIP joint.'\n",
    "vector = vectorizer.transform([test_text])\n",
    "vector_pca = pca.transform(vector.toarray())\n",
    "log_reg.predict(vector_pca)"
   ]
  },
  {
   "cell_type": "code",
   "execution_count": null,
   "id": "86771b7d",
   "metadata": {},
   "outputs": [],
   "source": [
    "# classes = ['Cardiovascular', 'Neurology', 'Urology', 'Gynecology', 'Gastroenterology', 'Orthopedic', 'Surgery', 'Radiology']\n",
    "classes = ['Cardiovascular', 'Neurology', 'Urology', 'Gynecology', 'Gastroenterology', 'Orthopedic']\n",
    "cm = metrics.confusion_matrix(y_test_new, y_pred_log_reg)\n",
    "cm_display = metrics.ConfusionMatrixDisplay(confusion_matrix = cm, display_labels = classes)\n",
    "\n",
    "cm_display.plot()\n",
    "plt.show()"
   ]
  },
  {
   "cell_type": "code",
   "execution_count": null,
   "id": "4e71868d",
   "metadata": {},
   "outputs": [],
   "source": [
    "from sklearn.metrics import accuracy_score, f1_score, precision_score, recall_score,classification_report\n",
    "print(classification_report(y_test_new,y_pred_log_reg,labels=classes))"
   ]
  },
  {
   "cell_type": "markdown",
   "id": "7149e9f4",
   "metadata": {},
   "source": [
    "#### SVM"
   ]
  },
  {
   "cell_type": "code",
   "execution_count": null,
   "id": "0901ceb1",
   "metadata": {},
   "outputs": [],
   "source": [
    "from sklearn import svm"
   ]
  },
  {
   "cell_type": "code",
   "execution_count": null,
   "id": "5ae79a20",
   "metadata": {},
   "outputs": [],
   "source": [
    "model = svm.SVC()\n",
    "support_vector_machine = model.fit(X_train_new, y_train_new)"
   ]
  },
  {
   "cell_type": "code",
   "execution_count": null,
   "id": "5b8bc3c6",
   "metadata": {},
   "outputs": [],
   "source": [
    "y_pred_svm = support_vector_machine.predict(X_test_new)"
   ]
  },
  {
   "cell_type": "code",
   "execution_count": null,
   "id": "1079c32f",
   "metadata": {},
   "outputs": [],
   "source": [
    "# classes = ['Cardiovascular', 'Neurology', 'Urology', 'Gynecology', 'Gastroenterology', 'Orthopedic', 'Surgery', 'Radiology']\n",
    "classes = ['Cardiovascular', 'Neurology', 'Urology', 'Gynecology', 'Gastroenterology', 'Orthopedic']\n",
    "cm = metrics.confusion_matrix(y_test_new, y_pred_svm)\n",
    "cm_display = metrics.ConfusionMatrixDisplay(confusion_matrix = cm, display_labels = classes)\n",
    "\n",
    "cm_display.plot()\n",
    "plt.show()"
   ]
  },
  {
   "cell_type": "code",
   "execution_count": null,
   "id": "6482b107",
   "metadata": {},
   "outputs": [],
   "source": [
    "print(classification_report(y_test_new,y_pred_svm,labels=classes))"
   ]
  },
  {
   "cell_type": "markdown",
   "id": "6aa8263b",
   "metadata": {},
   "source": [
    "#### Random forest"
   ]
  },
  {
   "cell_type": "code",
   "execution_count": null,
   "id": "1adbe7ff",
   "metadata": {},
   "outputs": [],
   "source": [
    "from sklearn.ensemble import RandomForestClassifier"
   ]
  },
  {
   "cell_type": "code",
   "execution_count": null,
   "id": "75ac8e33",
   "metadata": {},
   "outputs": [],
   "source": [
    "model = RandomForestClassifier(n_estimators=100)\n",
    "ran_for = model.fit(X_train_new, y_train_new)"
   ]
  },
  {
   "cell_type": "code",
   "execution_count": null,
   "id": "66631b77",
   "metadata": {},
   "outputs": [],
   "source": [
    "y_pred_rf = ran_for.predict(X_test_new)"
   ]
  },
  {
   "cell_type": "code",
   "execution_count": null,
   "id": "42c9c744",
   "metadata": {},
   "outputs": [],
   "source": [
    "# classes = ['Cardiovascular', 'Neurology', 'Urology', 'Gynecology', 'Gastroenterology', 'Orthopedic', 'Surgery', 'Radiology']\n",
    "classes = ['Cardiovascular', 'Neurology', 'Urology', 'Gynecology', 'Gastroenterology', 'Orthopedic']\n",
    "cm = metrics.confusion_matrix(y_test_new, y_pred_rf)\n",
    "cm_display = metrics.ConfusionMatrixDisplay(confusion_matrix = cm, display_labels = classes)\n",
    "\n",
    "cm_display.plot()\n",
    "plt.show()"
   ]
  },
  {
   "cell_type": "code",
   "execution_count": null,
   "id": "16589b39",
   "metadata": {},
   "outputs": [],
   "source": [
    "print(classification_report(y_test_new,y_pred_rf,labels=classes))"
   ]
  },
  {
   "cell_type": "markdown",
   "id": "48c26449",
   "metadata": {},
   "source": [
    "### Ensemble approach"
   ]
  },
  {
   "cell_type": "code",
   "execution_count": null,
   "id": "4287ce55",
   "metadata": {},
   "outputs": [],
   "source": [
    "from sklearn.ensemble import VotingClassifier\n",
    "from sklearn.model_selection import cross_val_score"
   ]
  },
  {
   "cell_type": "code",
   "execution_count": null,
   "id": "f561326a",
   "metadata": {},
   "outputs": [],
   "source": [
    "ensemble_model = VotingClassifier(estimators=[('log_reg', log_reg), ('support_vector_machine', support_vector_machine), ('ran_for', ran_for)],voting='hard')\n",
    "ensemble = ensemble_model.fit(X_train_new, y_train_new)"
   ]
  },
  {
   "cell_type": "code",
   "execution_count": null,
   "id": "73043b07",
   "metadata": {},
   "outputs": [],
   "source": [
    "X_train_new[0]"
   ]
  },
  {
   "cell_type": "code",
   "execution_count": null,
   "id": "4c740a32",
   "metadata": {},
   "outputs": [],
   "source": [
    "y_pred_ensemble = ensemble.predict(X_test_new)"
   ]
  },
  {
   "cell_type": "code",
   "execution_count": null,
   "id": "f3aad56c",
   "metadata": {},
   "outputs": [],
   "source": [
    "#for now only ML models\n",
    "# classes = ['Cardiovascular', 'Neurology', 'Urology', 'Gynecology', 'Gastroenterology', 'Orthopedic', 'Surgery', 'Radiology']\n",
    "classes = ['Cardiovascular', 'Neurology', 'Urology', 'Gynecology', 'Gastroenterology', 'Orthopedic']\n",
    "cm = metrics.confusion_matrix(y_test_new, y_pred_ensemble)\n",
    "cm_display = metrics.ConfusionMatrixDisplay(confusion_matrix = cm, display_labels = classes)\n",
    "\n",
    "cm_display.plot()\n",
    "plt.show()"
   ]
  },
  {
   "cell_type": "code",
   "execution_count": null,
   "id": "c771f342",
   "metadata": {},
   "outputs": [],
   "source": [
    "print(classification_report(y_test_new,y_pred_ensemble,labels=classes))"
   ]
  },
  {
   "cell_type": "code",
   "execution_count": null,
   "id": "385286e1",
   "metadata": {},
   "outputs": [],
   "source": [
    "test_text = 'Focused examination of the right index finger demonstrates a 1 cm transverse wound across the dorsal DIP joint. The wound has almost completely healed. There are three residual nylon sutures, which are all removed today. There is no localized erythema, induration, swelling or tenderness. There is an extensor lag of approximately 20 degrees at the DIP joint. There is full passive extension of the distal phalanx at the joint. There is mild hyperextension at the PIP joint.'\n",
    "vector = vectorizer.transform([test_text])\n",
    "vector_pca = pca.transform(vector.toarray())\n",
    "ensemble.predict(vector_pca)[0]"
   ]
  },
  {
   "cell_type": "markdown",
   "id": "b2296b58",
   "metadata": {},
   "source": [
    "## Creating Medical Speciality Class"
   ]
  },
  {
   "cell_type": "code",
   "execution_count": null,
   "id": "fdb3d32c",
   "metadata": {},
   "outputs": [],
   "source": [
    "class MedicalSpeciality:\n",
    "    \n",
    "    def pred_CNNLSTM(self,sample_text):\n",
    "        value = cnn_lstm.predict([sample_text])[0]\n",
    "        if value == 0:\n",
    "            return \"Cardiovascular\"\n",
    "        elif value == 1:\n",
    "            return \"Neurology\"\n",
    "        elif value == 2:\n",
    "            return \"Urology\"\n",
    "        elif value == 3:\n",
    "            return \"Gynecology\"\n",
    "        elif value == 4:\n",
    "            return \"Gastroenterology\"\n",
    "        return \"Orthopedic\"\n",
    "    \n",
    "    def pred_LSTM(self,sample_text):\n",
    "        value = lstm.predict([sample_text])[0]\n",
    "        if value == 0:\n",
    "            return \"Cardiovascular\"\n",
    "        elif value == 1:\n",
    "            return \"Neurology\"\n",
    "        elif value == 2:\n",
    "            return \"Urology\"\n",
    "        elif value == 3:\n",
    "            return \"Gynecology\"\n",
    "        elif value == 4:\n",
    "            return \"Gastroenterology\"\n",
    "        return \"Orthopedic\"\n",
    "    \n",
    "    def pred_ML_Ensemble(self,sample_text):\n",
    "        vector = vectorizer.transform([sample_text])\n",
    "        vector_pca = pca.transform(vector.toarray())\n",
    "        return ensemble.predict(vector_pca)[0]\n",
    "\n",
    "    def final_prediction(self,sample_text):\n",
    "        CNNLSTM = self.pred_CNNLSTM(sample_text)\n",
    "        LSTM = self.pred_LSTM(sample_text)\n",
    "        ENSM = self.pred_ML_Ensemble(sample_text)\n",
    "    \n",
    "        if CNNLSTM == LSTM and CNNLSTM == ENSM:\n",
    "            return CNNLSTM\n",
    "        elif CNNLSTM == LSTM and CNNLSTM != ENSM:\n",
    "            if CNNLSTM != \"Orthopedic\" and ENSM == \"Orthopedic\":\n",
    "                return ENSM\n",
    "            elif CNNLSTM != \"Neurology\" and ENSM == \"Neurology\":\n",
    "                return ENSM\n",
    "            else:\n",
    "                return CNNLSTM\n",
    "        return CNNLSTM\n",
    "        "
   ]
  },
  {
   "cell_type": "markdown",
   "id": "993b0c8a",
   "metadata": {},
   "source": [
    "#### Testing the medical speciality class functions"
   ]
  },
  {
   "cell_type": "code",
   "execution_count": null,
   "id": "56044440",
   "metadata": {},
   "outputs": [],
   "source": [
    "test_text = \"The patient is a (XX)-year-old female with a history of CKD stage III secondary to membranoproliferative glomerulonephritis. This was accompanied by significant nephrotic syndrome and microscopic hematuria. Urine protein prior was 5.9 grams, and at the time of her renal biopsy, it was as high as 18 grams. Serologies were done and these were all negative. In particular, her ANA was negative, ANCA negative, hepatitis A, B, and C negative, HIV negative, ASO less than 200. C3, C4, and CH50 were all negative. She had generalized edema secondary to her nephrotic syndrome and was treated with diuretics. She had hyperlipidemia. Creatinine was 1.7 last April. She had two hospitalizations; the first in September-October when her glomerulonephritis was diagnosed and then again in December with recurrence of her edema. She was treated with dipyridamole, fish oil capsules, and prednisone. She was initially evaluated by me last April. At that time, BUN was 20, creatinine 2.2, hemoglobin 9.4, albumin 1.2, potassium 3.3. She required diuretics for treatment of her edema. Blood pressures were stable at 120/80. Again, repeat serologies were performed. C3-C4 levels normal, ANA negative, CH50 normal, hepatitis B and C antibody negative. Creatinine was 1.8 in December. Albumin 1.5, hemoglobin 9.8, cholesterol 459, and triglycerides 155. Subsequently, she was placed on Crestor, PhosLo and lisinopril to reduce the urine protein. Urine protein-to-creatinine ratio could not be determined because of her extremely high urine protein. Urine sediment examined in the office showed evidence of significant microscopic hematuria with dysmorphic red cells. When last seen in the office, her labs on recheck showed creatinine of 1.8, BUN 26. Electrolytes were normal. Albumin 1.4, glucose 79, hemoglobin 9.9, TSH high at 10, ferritin 202, percent saturation of iron 34, PTH level 42, cholesterol 226, triglycerides 165, LDL 162, phosphorous 6.4, free T4 normal at 0.9. When seen in December, she admitted that she had stopped all of her medications one week ago on her own. She had been counseled about the importance of taking medications. At that time, Lasix, Theo-Dur and PhosLo were prescribed. The patient was admitted on this occasion with epigastric abdominal pain. On exam in the emergency room, blood pressure was 118/86, pulse 68, she was afebrile. Chest was clear. Heart sounds regular. Abdomen: There was some mild tenderness. No rebound. Bowel sounds were normal. There was no peripheral edema.\""
   ]
  },
  {
   "cell_type": "code",
   "execution_count": null,
   "id": "6f58af03",
   "metadata": {},
   "outputs": [],
   "source": [
    "# test_text = \"Focused examination of the right index finger demonstrates a 1 cm transverse wound across the dorsal DIP joint. The wound has almost completely healed. There are three residual nylon sutures, which are all removed today. There is no localized erythema, induration, swelling or tenderness. There is an extensor lag of approximately 20 degrees at the DIP joint. There is full passive extension of the distal phalanx at the joint. There is mild hyperextension at the PIP joint.\""
   ]
  },
  {
   "cell_type": "code",
   "execution_count": null,
   "id": "9eced3b5",
   "metadata": {},
   "outputs": [],
   "source": [
    "specialty_detector = MedicalSpeciality()"
   ]
  },
  {
   "cell_type": "code",
   "execution_count": null,
   "id": "b4da9530",
   "metadata": {},
   "outputs": [],
   "source": [
    "specialty_detector.final_prediction(test_text)"
   ]
  },
  {
   "cell_type": "markdown",
   "id": "d0bdf09a",
   "metadata": {},
   "source": [
    "#### Storing model in pickle file"
   ]
  },
  {
   "cell_type": "code",
   "execution_count": null,
   "id": "25e74d01",
   "metadata": {},
   "outputs": [],
   "source": [
    "import pickle\n",
    "\n",
    "filename = 'model.pkl'\n",
    "pickle.dump(specialty_detector, open(filename, 'wb'))"
   ]
  },
  {
   "cell_type": "markdown",
   "id": "8de4ebc0",
   "metadata": {},
   "source": [
    "#### Loading model for the pickle file"
   ]
  },
  {
   "cell_type": "code",
   "execution_count": null,
   "id": "8f60c481",
   "metadata": {},
   "outputs": [],
   "source": [
    "test_text = \"The patient is a (XX)-year-old female with a history of CKD stage III secondary to membranoproliferative glomerulonephritis. This was accompanied by significant nephrotic syndrome and microscopic hematuria. Urine protein prior was 5.9 grams, and at the time of her renal biopsy, it was as high as 18 grams. Serologies were done and these were all negative. In particular, her ANA was negative, ANCA negative, hepatitis A, B, and C negative, HIV negative, ASO less than 200. C3, C4, and CH50 were all negative. She had generalized edema secondary to her nephrotic syndrome and was treated with diuretics. She had hyperlipidemia. Creatinine was 1.7 last April. She had two hospitalizations; the first in September-October when her glomerulonephritis was diagnosed and then again in December with recurrence of her edema. She was treated with dipyridamole, fish oil capsules, and prednisone. She was initially evaluated by me last April. At that time, BUN was 20, creatinine 2.2, hemoglobin 9.4, albumin 1.2, potassium 3.3. She required diuretics for treatment of her edema. Blood pressures were stable at 120/80. Again, repeat serologies were performed. C3-C4 levels normal, ANA negative, CH50 normal, hepatitis B and C antibody negative. Creatinine was 1.8 in December. Albumin 1.5, hemoglobin 9.8, cholesterol 459, and triglycerides 155. Subsequently, she was placed on Crestor, PhosLo and lisinopril to reduce the urine protein. Urine protein-to-creatinine ratio could not be determined because of her extremely high urine protein. Urine sediment examined in the office showed evidence of significant microscopic hematuria with dysmorphic red cells. When last seen in the office, her labs on recheck showed creatinine of 1.8, BUN 26. Electrolytes were normal. Albumin 1.4, glucose 79, hemoglobin 9.9, TSH high at 10, ferritin 202, percent saturation of iron 34, PTH level 42, cholesterol 226, triglycerides 165, LDL 162, phosphorous 6.4, free T4 normal at 0.9. When seen in December, she admitted that she had stopped all of her medications one week ago on her own. She had been counseled about the importance of taking medications. At that time, Lasix, Theo-Dur and PhosLo were prescribed. The patient was admitted on this occasion with epigastric abdominal pain. On exam in the emergency room, blood pressure was 118/86, pulse 68, she was afebrile. Chest was clear. Heart sounds regular. Abdomen: There was some mild tenderness. No rebound. Bowel sounds were normal. There was no peripheral edema.\""
   ]
  },
  {
   "cell_type": "code",
   "execution_count": null,
   "id": "d568677f",
   "metadata": {},
   "outputs": [],
   "source": [
    "# loading the specialty detector model from disk\n",
    "loaded_model = pickle.load(open('model.pkl', 'rb'))\n",
    "result = loaded_model.final_prediction(test_text)\n",
    "result"
   ]
  },
  {
   "cell_type": "markdown",
   "id": "77570556",
   "metadata": {},
   "source": [
    "#### calculating the accuracy of the finalized model"
   ]
  },
  {
   "cell_type": "code",
   "execution_count": null,
   "id": "78e19eb3",
   "metadata": {
    "scrolled": false
   },
   "outputs": [],
   "source": []
  },
  {
   "cell_type": "code",
   "execution_count": null,
   "id": "2cce4833",
   "metadata": {},
   "outputs": [],
   "source": [
    "match = 0\n",
    "not_match = 0\n",
    "for ind in data.index:\n",
    "    if specialty_detector.final_prediction(data['Report'][ind]) == data['speciality'][ind] :\n",
    "        match+=1\n",
    "    elif specialty_detector.final_prediction(data['Report'][ind]) != data['speciality'][ind] :\n",
    "        not_match+=1\n"
   ]
  },
  {
   "cell_type": "code",
   "execution_count": null,
   "id": "92e94fe6",
   "metadata": {},
   "outputs": [],
   "source": [
    "print(\"Accuracy: \")\n",
    "print((match*100)/(match+not_match))"
   ]
  },
  {
   "cell_type": "code",
   "execution_count": null,
   "id": "8c6065fb",
   "metadata": {},
   "outputs": [],
   "source": []
  }
 ],
 "metadata": {
  "kernelspec": {
   "display_name": "Python 3",
   "language": "python",
   "name": "python3"
  },
  "language_info": {
   "codemirror_mode": {
    "name": "ipython",
    "version": 3
   },
   "file_extension": ".py",
   "mimetype": "text/x-python",
   "name": "python",
   "nbconvert_exporter": "python",
   "pygments_lexer": "ipython3",
   "version": "3.8.8"
  }
 },
 "nbformat": 4,
 "nbformat_minor": 5
}
